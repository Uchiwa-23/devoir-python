{
 "cells": [
  {
   "cell_type": "code",
   "execution_count": 1,
   "metadata": {},
   "outputs": [
    {
     "name": "stdout",
     "output_type": "stream",
     "text": [
      "2\n",
      "4\n",
      "6\n",
      "8\n",
      "10\n",
      "12\n",
      "14\n",
      "16\n",
      "18\n",
      "20\n"
     ]
    }
   ],
   "source": [
    "#1 Écrivez un programme qui crée une liste de nombres de 1 à 10 et affiche chaque nombre multiplié par 2.\n",
    "# Création de la liste de nombres de 1 à 10\n",
    "liste_nombres = list(range(1, 11))\n",
    "\n",
    "# Affichage de chaque nombre multiplié par 2\n",
    "for nombre in liste_nombres:\n",
    "    resultat = nombre * 2\n",
    "    print(resultat)"
   ]
  },
  {
   "cell_type": "code",
   "execution_count": 6,
   "metadata": {},
   "outputs": [
    {
     "name": "stdout",
     "output_type": "stream",
     "text": [
      "La longueur du nom Aliou est : 5\n",
      "La longueur du nom Boubacar est : 8\n",
      "La longueur du nom Thierno est : 7\n",
      "La longueur du nom David est : 5\n",
      "La longueur du nom Mamadou est : 7\n"
     ]
    }
   ],
   "source": [
    "#2. Créez une liste de noms et affichez la longueur de chaque nom en utilisant une boucle.\n",
    "# Création de la liste de noms\n",
    "liste_noms = [\"Aliou\", \"Boubacar\", \"Thierno\", \"David\", \"Mamadou\"]\n",
    "\n",
    "# Affichage de la longueur de chaque nom\n",
    "for nom in liste_noms:\n",
    "    longueur = len(nom)\n",
    "    print(f\"La longueur du nom {nom} est : {longueur}\")\n"
   ]
  },
  {
   "cell_type": "code",
   "execution_count": 3,
   "metadata": {},
   "outputs": [
    {
     "name": "stdout",
     "output_type": "stream",
     "text": [
      "[1, 4, 9, 16, 25]\n"
     ]
    }
   ],
   "source": [
    "#3. Écrivez une fonction qui prend une liste en entrée et renvoie une nouvelle liste contenant le carré de chaque élément\n",
    "def carre_elements(liste):\n",
    "    \"\"\"\n",
    "    Prend une liste en entrée et renvoie une nouvelle liste contenant le carré de chaque élément.\n",
    "    \"\"\"\n",
    "    resultats_carres = [x ** 2 for x in liste]\n",
    "    return resultats_carres\n",
    "\n",
    "# Exemple d'utilisation de la fonction\n",
    "ma_liste = [1, 2, 3, 4, 5]\n",
    "resultat = carre_elements(ma_liste)\n",
    "print(resultat)\n"
   ]
  },
  {
   "cell_type": "code",
   "execution_count": 4,
   "metadata": {},
   "outputs": [
    {
     "name": "stdout",
     "output_type": "stream",
     "text": [
      "Liste complète de nombres aléatoires : [9, 9, 1, 10, 2, 1, 5, 2, 10, 5]\n",
      "Nombres supérieurs à 5 : [9, 9, 10, 10]\n"
     ]
    }
   ],
   "source": [
    "#4. Créez une liste de nombres aléatoires et affichez seulement les nombres qui sont supérieurs à 5\n",
    "\n",
    "import random\n",
    "\n",
    "# Création d'une liste de 10 nombres aléatoires entre 1 et 10 inclus\n",
    "liste_nombres = [random.randint(1, 10) for _ in range(10)]\n",
    "\n",
    "# Affichage des nombres supérieurs à 5\n",
    "nombres_sup_5 = [nombre for nombre in liste_nombres if nombre > 5]\n",
    "\n",
    "print(\"Liste complète de nombres aléatoires :\", liste_nombres)\n",
    "print(\"Nombres supérieurs à 5 :\", nombres_sup_5)\n"
   ]
  },
  {
   "cell_type": "code",
   "execution_count": 5,
   "metadata": {},
   "outputs": [
    {
     "name": "stdout",
     "output_type": "stream",
     "text": [
      "La chaîne la plus longue est : 'éléphant'\n"
     ]
    }
   ],
   "source": [
    "#5. Écrivez un programme qui prend une liste de chaînes de caractères en entrée et affiche la plus longue\n",
    "def plus_longue(liste_chaines):\n",
    "    \"\"\"\n",
    "    Prend une liste de chaînes de caractères en entrée et renvoie la plus longue.\n",
    "    \"\"\"\n",
    "    if not liste_chaines:\n",
    "        return None  # Retourne None si la liste est vide\n",
    "\n",
    "    chaine_plus_longue = max(liste_chaines, key=len)\n",
    "    return chaine_plus_longue\n",
    "\n",
    "# Exemple d'utilisation de la fonction\n",
    "liste_de_chaines = [\"chien\", \"chat\", \"éléphant\", \"souris\", \"oiseau\"]\n",
    "chaine_resultat = plus_longue(liste_de_chaines)\n",
    "\n",
    "if chaine_resultat is not None:\n",
    "    print(f\"La chaîne la plus longue est : '{chaine_resultat}'\")\n",
    "else:\n",
    "    print(\"La liste est vide.\")\n"
   ]
  },
  {
   "cell_type": "code",
   "execution_count": null,
   "metadata": {},
   "outputs": [],
   "source": []
  }
 ],
 "metadata": {
  "kernelspec": {
   "display_name": "Python 3",
   "language": "python",
   "name": "python3"
  },
  "language_info": {
   "codemirror_mode": {
    "name": "ipython",
    "version": 3
   },
   "file_extension": ".py",
   "mimetype": "text/x-python",
   "name": "python",
   "nbconvert_exporter": "python",
   "pygments_lexer": "ipython3",
   "version": "3.7.4"
  }
 },
 "nbformat": 4,
 "nbformat_minor": 2
}
