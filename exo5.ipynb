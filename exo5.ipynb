{
 "cells": [
  {
   "cell_type": "code",
   "execution_count": 1,
   "metadata": {},
   "outputs": [
    {
     "name": "stdout",
     "output_type": "stream",
     "text": [
      "Fréquences d'apparition des lettres :\n",
      "a: 0.0930\n",
      "b: 0.0000\n",
      "c: 0.0465\n",
      "d: 0.0233\n",
      "e: 0.2326\n",
      "f: 0.0233\n",
      "g: 0.0233\n",
      "h: 0.0000\n",
      "i: 0.0698\n",
      "j: 0.0000\n",
      "k: 0.0000\n",
      "l: 0.0465\n",
      "m: 0.0233\n",
      "n: 0.1163\n",
      "o: 0.0233\n",
      "p: 0.0233\n",
      "q: 0.0000\n",
      "r: 0.0233\n",
      "s: 0.0698\n",
      "t: 0.0698\n",
      "u: 0.0465\n",
      "v: 0.0000\n",
      "w: 0.0000\n",
      "x: 0.0465\n",
      "y: 0.0000\n",
      "z: 0.0000\n"
     ]
    }
   ],
   "source": [
    "#Écrivez une fonction en Python qui prend en entrée un texte en anglais ou en français et qui \n",
    "#calcule la fréquence d'apparition de chaque lettre. La fonction devrait retourner un \n",
    "#dictionnaire où les clés sont les lettres de l'alphabet et les valeurs sont les fréquences correspondantes\n",
    "\n",
    "def calculer_frequences(texte):\n",
    "    \"\"\"\n",
    "    Calcule la fréquence d'apparition de chaque lettre dans le texte.\n",
    "    Retourne un dictionnaire où les clés sont les lettres de l'alphabet et les valeurs sont les fréquences.\n",
    "    \"\"\"\n",
    "    # Initialisation du dictionnaire des fréquences\n",
    "    frequences = {chr(i): 0 for i in range(ord('a'), ord('z') + 1)}\n",
    "\n",
    "    # Conversion du texte en minuscules pour éviter la distinction entre majuscules et minuscules\n",
    "    texte = texte.lower()\n",
    "\n",
    "    # Calcul des fréquences\n",
    "    total_caracteres = 0\n",
    "    for caractere in texte:\n",
    "        if 'a' <= caractere <= 'z':\n",
    "            frequences[caractere] += 1\n",
    "            total_caracteres += 1\n",
    "\n",
    "    # Calcul des fréquences normalisées\n",
    "    for lettre, frequence in frequences.items():\n",
    "        if total_caracteres > 0:\n",
    "            frequences[lettre] = frequence / total_caracteres\n",
    "\n",
    "    return frequences\n",
    "\n",
    "# Exemple d'utilisation de la fonction\n",
    "texte_exemple = \"Ceci est un exemple de texte en français ou en anglais.\"\n",
    "resultat_frequences = calculer_frequences(texte_exemple)\n",
    "\n",
    "# Affichage des résultats\n",
    "print(\"Fréquences d'apparition des lettres :\")\n",
    "for lettre, frequence in resultat_frequences.items():\n",
    "    print(f\"{lettre}: {frequence:.4f}\")\n"
   ]
  },
  {
   "cell_type": "code",
   "execution_count": null,
   "metadata": {},
   "outputs": [],
   "source": []
  }
 ],
 "metadata": {
  "kernelspec": {
   "display_name": "Python 3",
   "language": "python",
   "name": "python3"
  },
  "language_info": {
   "codemirror_mode": {
    "name": "ipython",
    "version": 3
   },
   "file_extension": ".py",
   "mimetype": "text/x-python",
   "name": "python",
   "nbconvert_exporter": "python",
   "pygments_lexer": "ipython3",
   "version": "3.7.4"
  }
 },
 "nbformat": 4,
 "nbformat_minor": 2
}
