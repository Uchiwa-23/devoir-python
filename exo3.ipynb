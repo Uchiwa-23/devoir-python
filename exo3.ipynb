{
 "cells": [
  {
   "cell_type": "code",
   "execution_count": 1,
   "metadata": {},
   "outputs": [
    {
     "name": "stdout",
     "output_type": "stream",
     "text": [
      "La médiane de la liste est : 4.5\n"
     ]
    }
   ],
   "source": [
    "#1. Créez une liste de nombres et écrivez une fonction qui renvoie la médiane de cette liste\n",
    "def calculer_mediane(liste_nombres):\n",
    "    \"\"\"\n",
    "    Calcule la médiane d'une liste de nombres.\n",
    "    \"\"\"\n",
    "    sorted_list = sorted(liste_nombres)\n",
    "    taille = len(sorted_list)\n",
    "\n",
    "    if taille % 2 == 0:\n",
    "        # Liste avec un nombre pair d'éléments\n",
    "        mediane = (sorted_list[taille // 2 - 1] + sorted_list[taille // 2]) / 2\n",
    "    else:\n",
    "        # Liste avec un nombre impair d'éléments\n",
    "        mediane = sorted_list[taille // 2]\n",
    "\n",
    "    return mediane\n",
    "\n",
    "# Exemple d'utilisation de la fonction\n",
    "ma_liste = [4, 1, 7, 3, 9, 5]\n",
    "resultat_mediane = calculer_mediane(ma_liste)\n",
    "\n",
    "print(f\"La médiane de la liste est : {resultat_mediane}\")\n"
   ]
  },
  {
   "cell_type": "code",
   "execution_count": 3,
   "metadata": {},
   "outputs": [
    {
     "name": "stdout",
     "output_type": "stream",
     "text": [
      "Chaînes de plus de 5 caractères : ['souris', 'éléphant', 'oiseau']\n"
     ]
    }
   ],
   "source": [
    "#2. Écrivez une fonction qui prend une liste de chaînes de caractères en entrée et renvoie \n",
    "#une nouvelle liste contenant seulement les chaînes de plus de 5 caractères.\n",
    "def filtrer_longueur_chaines(liste_chaines):\n",
    "    \"\"\"\n",
    "    Filtrer les chaînes de plus de 5 caractères d'une liste.\n",
    "    \"\"\"\n",
    "    return [chaine for chaine in liste_chaines if len(chaine) > 5]\n",
    "\n",
    "# Exemple d'utilisation de la fonction\n",
    "liste_de_chaines = [\"chat\", \"chien\", \"souris\", \"éléphant\", \"oiseau\"]\n",
    "resultat_filtrage = filtrer_longueur_chaines(liste_de_chaines)\n",
    "\n",
    "print(\"Chaînes de plus de 5 caractères :\", resultat_filtrage)\n",
    "\n"
   ]
  },
  {
   "cell_type": "code",
   "execution_count": 4,
   "metadata": {},
   "outputs": [
    {
     "name": "stdout",
     "output_type": "stream",
     "text": [
      "La moyenne de la liste est : 7.0\n"
     ]
    }
   ],
   "source": [
    "#3. Créez une liste de nombres et écrivez un programme qui calcule la moyenne de ces \n",
    "#nombres sans utiliser la fonction `sum`\n",
    "def calculer_moyenne(liste_nombres):\n",
    "    \"\"\"\n",
    "    Calcule la moyenne d'une liste de nombres sans utiliser la fonction `sum`.\n",
    "    \"\"\"\n",
    "    total = 0\n",
    "    nombre_elements = 0\n",
    "\n",
    "    for nombre in liste_nombres:\n",
    "        total += nombre\n",
    "        nombre_elements += 1\n",
    "\n",
    "    if nombre_elements == 0:\n",
    "        return None  # Éviter la division par zéro\n",
    "\n",
    "    moyenne = total / nombre_elements\n",
    "    return moyenne\n",
    "\n",
    "# Exemple d'utilisation du programme\n",
    "ma_liste = [3, 5, 7, 9, 11]\n",
    "resultat_moyenne = calculer_moyenne(ma_liste)\n",
    "\n",
    "if resultat_moyenne is not None:\n",
    "    print(f\"La moyenne de la liste est : {resultat_moyenne}\")\n",
    "else:\n",
    "    print(\"La liste est vide.\")\n"
   ]
  },
  {
   "cell_type": "code",
   "execution_count": 5,
   "metadata": {},
   "outputs": [
    {
     "name": "stdout",
     "output_type": "stream",
     "text": [
      "Liste originale : [1, 2, 3, 4, 5]\n",
      "Liste inversée : [5, 4, 3, 2, 1]\n"
     ]
    }
   ],
   "source": [
    "#4. Écrivez une fonction qui prend une liste en entrée et renvoie la liste inversée\n",
    "def inverser_liste(liste):\n",
    "    \"\"\"\n",
    "    Renvoie la liste inversée.\n",
    "    \"\"\"\n",
    "    return liste[::-1]\n",
    "\n",
    "# Exemple d'utilisation de la fonction\n",
    "ma_liste = [1, 2, 3, 4, 5]\n",
    "liste_inversee = inverser_liste(ma_liste)\n",
    "\n",
    "print(\"Liste originale :\", ma_liste)\n",
    "print(\"Liste inversée :\", liste_inversee)\n"
   ]
  },
  {
   "cell_type": "code",
   "execution_count": 7,
   "metadata": {},
   "outputs": [
    {
     "name": "stdout",
     "output_type": "stream",
     "text": [
      "Noms contenant la lettre 'a' : ['Aliou', 'Oumar', 'Mamadou', 'David', 'Awa', 'Fatou']\n"
     ]
    }
   ],
   "source": [
    "#5. Créez une liste de noms et affichez les noms qui contiennent la lettre \"a\"\n",
    "# Création de la liste de noms\n",
    "liste_noms = [\"Aliou\", \"Oumar\", \"Mamadou\", \"David\", \"Awa\", \"Fatou\"]\n",
    "\n",
    "# Affichage des noms contenant la lettre \"a\"\n",
    "noms_avec_a = [nom for nom in liste_noms if 'a' in nom.lower()]\n",
    "\n",
    "print(\"Noms contenant la lettre 'a' :\", noms_avec_a)\n"
   ]
  },
  {
   "cell_type": "code",
   "execution_count": null,
   "metadata": {},
   "outputs": [],
   "source": []
  }
 ],
 "metadata": {
  "kernelspec": {
   "display_name": "Python 3",
   "language": "python",
   "name": "python3"
  },
  "language_info": {
   "codemirror_mode": {
    "name": "ipython",
    "version": 3
   },
   "file_extension": ".py",
   "mimetype": "text/x-python",
   "name": "python",
   "nbconvert_exporter": "python",
   "pygments_lexer": "ipython3",
   "version": "3.7.4"
  }
 },
 "nbformat": 4,
 "nbformat_minor": 2
}
