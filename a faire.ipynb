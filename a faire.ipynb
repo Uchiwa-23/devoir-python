{
 "cells": [
  {
   "cell_type": "code",
   "execution_count": 1,
   "metadata": {},
   "outputs": [
    {
     "name": "stdout",
     "output_type": "stream",
     "text": [
      "Fréquences en français: {'l': 5, 'a': 4, 't': 3, 'o': 2, 'u': 3, 'r': 2, 'e': 8, 'i': 2, 'f': 3, 's': 2, 'n': 2, 'y': 1, 'm': 3, 'b': 2, 'é': 1, 'q': 1, 'd': 1, 'c': 1}\n",
      "Fréquences en anglais: {'t': 3, 'h': 2, 'e': 4, 'b': 3, 'i': 6, 'g': 2, 'n': 5, 's': 2, 'a': 1, 'c': 2, 'o': 4, 'y': 1, 'm': 2, 'l': 1, 'f': 1, 'u': 1, 'd': 2, 'k': 1}\n"
     ]
    }
   ],
   "source": [
    "# enonce: compter la frequence des lettres dans un texte francais et un text anglais commenter le resultat \n",
    "\n",
    "#Initialiser un dictionnaire vide pour stocker les fréquences des caractères\n",
    "def compter_frequences(texte):\n",
    "    # Parcourir chaque caractère dans le texte\n",
    "    frequences = {}\n",
    "    for caractere in texte:\n",
    "        # Vérifier si le caractère est une lettre\n",
    "        if caractere.isalpha():\n",
    "            # Convertir en minuscule\n",
    "            caractere = caractere.lower()\n",
    "            # Incrémenter la fréquence dans le dictionnaire\n",
    "            frequences[caractere] = frequences.get(caractere, 0) + 1\n",
    "            \n",
    "    # Retourner le dictionnaire des fréquences\n",
    "    return frequences\n",
    "\n",
    "# Générer un petit texte en français\n",
    "texte_francais = \"La tour Eiffel est un symbole emblématique de la France.\"\n",
    "\n",
    "# Générer un petit texte en anglais\n",
    "texte_anglais = \"The Big Ben is an iconic symbol of the United Kingdom.\"\n",
    "\n",
    "# Calculer les fréquences pour les deux textes\n",
    "frequences_francais = compter_frequences(texte_francais)\n",
    "frequences_anglais = compter_frequences(texte_anglais)\n",
    "\n",
    "# Afficher les résultats\n",
    "print(\"Fréquences en français:\", frequences_francais)\n",
    "print(\"Fréquences en anglais:\", frequences_anglais)\n",
    "\n",
    "#Dans cette fonction compter_frequences_caracteres,\n",
    "#on initialise un dictionnaire vide (frequences) pour stocker les fréquences des caractères. \n",
    "#On parcourt ensuite chaque caractère dans le texte. \n",
    "#Si le caractère est une lettre, on le convertit en minuscule, \n",
    "#on incrémente sa fréquence dans le dictionnaire, et finalement, on retourne le dictionnaire des fréquences.\n",
    "#L'exemple de texte fourni donnera en sortie un dictionnaire montrant la fréquence de chaque lettre."
   ]
  },
  {
   "cell_type": "code",
   "execution_count": null,
   "metadata": {},
   "outputs": [],
   "source": []
  }
 ],
 "metadata": {
  "kernelspec": {
   "display_name": "Python 3",
   "language": "python",
   "name": "python3"
  },
  "language_info": {
   "codemirror_mode": {
    "name": "ipython",
    "version": 3
   },
   "file_extension": ".py",
   "mimetype": "text/x-python",
   "name": "python",
   "nbconvert_exporter": "python",
   "pygments_lexer": "ipython3",
   "version": "3.7.4"
  }
 },
 "nbformat": 4,
 "nbformat_minor": 2
}
