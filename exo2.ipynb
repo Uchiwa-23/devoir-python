{
 "cells": [
  {
   "cell_type": "code",
   "execution_count": 1,
   "metadata": {},
   "outputs": [
    {
     "name": "stdout",
     "output_type": "stream",
     "text": [
      "Éléments communs aux deux listes : [3, 4, 5]\n"
     ]
    }
   ],
   "source": [
    "#1. Écrivez une fonction qui prend deux listes en entrée et renvoie une nouvelle liste contenant les éléments communs aux deux listes\n",
    "def elements_communs(liste1, liste2):\n",
    "    \"\"\"\n",
    "    Prend deux listes en entrée et renvoie une nouvelle liste contenant les éléments communs.\n",
    "    \"\"\"\n",
    "    return list(set(liste1) & set(liste2))\n",
    "\n",
    "# Exemple d'utilisation de la fonction\n",
    "liste_a = [1, 2, 3, 4, 5]\n",
    "liste_b = [3, 4, 5, 6, 7]\n",
    "\n",
    "resultat = elements_communs(liste_a, liste_b)\n",
    "print(\"Éléments communs aux deux listes :\", resultat)\n"
   ]
  },
  {
   "cell_type": "code",
   "execution_count": 2,
   "metadata": {},
   "outputs": [
    {
     "name": "stdout",
     "output_type": "stream",
     "text": [
      "Le nombre 7 est impair.\n"
     ]
    }
   ],
   "source": [
    "#2. Créez une fonction qui prend un nombre en entrée et renvoie \"pair\" ou \"impair\"\n",
    "def determiner_parite(nombre):\n",
    "    \"\"\"\n",
    "    Prend un nombre en entrée et renvoie \"pair\" ou \"impair\".\n",
    "    \"\"\"\n",
    "    if nombre % 2 == 0:\n",
    "        return \"pair\"\n",
    "    else:\n",
    "        return \"impair\"\n",
    "\n",
    "# Exemple d'utilisation de la fonction\n",
    "nombre_test = 7\n",
    "resultat = determiner_parite(nombre_test)\n",
    "\n",
    "print(f\"Le nombre {nombre_test} est {resultat}.\")\n"
   ]
  },
  {
   "cell_type": "code",
   "execution_count": 3,
   "metadata": {},
   "outputs": [
    {
     "name": "stdout",
     "output_type": "stream",
     "text": [
      "La somme des nombres dans la liste est : 15\n"
     ]
    }
   ],
   "source": [
    "#3. Écrivez une fonction qui prend une liste de nombres en entrée et renvoie la somme de tous les éléments.\n",
    "def calculer_somme(liste_nombres):\n",
    "    \"\"\"\n",
    "    Prend une liste de nombres en entrée et renvoie la somme de tous les éléments.\n",
    "    \"\"\"\n",
    "    somme = sum(liste_nombres)\n",
    "    return somme\n",
    "\n",
    "# Exemple d'utilisation de la fonction\n",
    "ma_liste = [1, 2, 3, 4, 5]\n",
    "resultat_somme = calculer_somme(ma_liste)\n",
    "\n",
    "print(f\"La somme des nombres dans la liste est : {resultat_somme}\")\n"
   ]
  },
  {
   "cell_type": "code",
   "execution_count": 4,
   "metadata": {},
   "outputs": [
    {
     "name": "stdout",
     "output_type": "stream",
     "text": [
      "Premières lettres de chaque mot : ['c', 'c', 's', 'é']\n"
     ]
    }
   ],
   "source": [
    "#4. Créez une fonction qui prend une liste de mots en entrée et renvoie une nouvelle liste contenant la première lettre de chaque mot\n",
    "def premieres_lettres(liste_mots):\n",
    "    \"\"\"\n",
    "    Prend une liste de mots en entrée et renvoie une nouvelle liste contenant la première lettre de chaque mot.\n",
    "    \"\"\"\n",
    "    return [mot[0] for mot in liste_mots]\n",
    "\n",
    "# Exemple d'utilisation de la fonction\n",
    "liste_mots = [\"chat\", \"chien\", \"souris\", \"éléphant\"]\n",
    "resultat = premieres_lettres(liste_mots)\n",
    "\n",
    "print(\"Premières lettres de chaque mot :\", resultat)\n"
   ]
  },
  {
   "cell_type": "code",
   "execution_count": 5,
   "metadata": {},
   "outputs": [
    {
     "name": "stdout",
     "output_type": "stream",
     "text": [
      "Chaine originale : Bonjour, comment ça va ?\n",
      "Chaine sans voyelles : Bnjr, cmmnt ç v ?\n"
     ]
    }
   ],
   "source": [
    "#5. Écrivez une fonction qui prend une chaîne de caractères en entrée et renvoie la même chaîne mais sans voyelles\n",
    "def supprimer_voyelles(chaine):\n",
    "    \"\"\"\n",
    "    Prend une chaîne de caractères en entrée et renvoie la même chaîne sans voyelles.\n",
    "    \"\"\"\n",
    "    voyelles = \"aeiouAEIOU\"\n",
    "    chaine_sans_voyelles = ''.join(caractere for caractere in chaine if caractere not in voyelles)\n",
    "    return chaine_sans_voyelles\n",
    "\n",
    "# Exemple d'utilisation de la fonction\n",
    "chaine_test = \"Bonjour, comment ça va ?\"\n",
    "resultat = supprimer_voyelles(chaine_test)\n",
    "\n",
    "print(f\"Chaine originale : {chaine_test}\")\n",
    "print(f\"Chaine sans voyelles : {resultat}\")\n"
   ]
  },
  {
   "cell_type": "code",
   "execution_count": null,
   "metadata": {},
   "outputs": [],
   "source": []
  }
 ],
 "metadata": {
  "kernelspec": {
   "display_name": "Python 3",
   "language": "python",
   "name": "python3"
  },
  "language_info": {
   "codemirror_mode": {
    "name": "ipython",
    "version": 3
   },
   "file_extension": ".py",
   "mimetype": "text/x-python",
   "name": "python",
   "nbconvert_exporter": "python",
   "pygments_lexer": "ipython3",
   "version": "3.7.4"
  }
 },
 "nbformat": 4,
 "nbformat_minor": 2
}
