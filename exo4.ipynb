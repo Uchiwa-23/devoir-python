{
 "cells": [
  {
   "cell_type": "code",
   "execution_count": 1,
   "metadata": {},
   "outputs": [
    {
     "name": "stdout",
     "output_type": "stream",
     "text": [
      "Liste originale : [1, 2, 3, 2, 4, 5, 6, 6, 7]\n",
      "Liste sans doublons : [1, 2, 3, 4, 5, 6, 7]\n"
     ]
    }
   ],
   "source": [
    "#1. Créez une fonction qui prend une liste en entrée et renvoie la liste sans les éléments en doublon\n",
    "def enlever_doublons(liste):\n",
    "    \"\"\"\n",
    "    Renvoie la liste sans les éléments en doublon.\n",
    "    \"\"\"\n",
    "    return list(set(liste))\n",
    "\n",
    "# Exemple d'utilisation de la fonction\n",
    "ma_liste = [1, 2, 3, 2, 4, 5, 6, 6, 7]\n",
    "liste_sans_doublons = enlever_doublons(ma_liste)\n",
    "\n",
    "print(\"Liste originale :\", ma_liste)\n",
    "print(\"Liste sans doublons :\", liste_sans_doublons)\n"
   ]
  },
  {
   "cell_type": "code",
   "execution_count": 2,
   "metadata": {},
   "outputs": [
    {
     "name": "stdout",
     "output_type": "stream",
     "text": [
      "Liste de nombres premiers jusqu'à 30 : [2, 3, 5, 7, 11, 13, 17, 19, 23, 29]\n"
     ]
    }
   ],
   "source": [
    "#2. Créez une fonction qui génère une liste de nombres premiers jusqu'à un nombre donné\n",
    "def generer_nombres_premiers(limite):\n",
    "    \"\"\"\n",
    "    Génère une liste de nombres premiers jusqu'à la limite donnée.\n",
    "    \"\"\"\n",
    "    if limite < 2:\n",
    "        return []\n",
    "\n",
    "    nombres = [True] * (limite + 1)\n",
    "    nombres[0] = nombres[1] = False  \n",
    "    # 0 et 1 ne sont pas premiers\n",
    "\n",
    "    for i in range(2, int(limite**0.5) + 1):\n",
    "        if nombres[i]:\n",
    "            for j in range(i**2, limite + 1, i):\n",
    "                nombres[j] = False\n",
    "\n",
    "    return [i for i in range(2, limite + 1) if nombres[i]]\n",
    "\n",
    "# Exemple d'utilisation de la fonction\n",
    "limite_sup = 30\n",
    "liste_premiers = generer_nombres_premiers(limite_sup)\n",
    "\n",
    "print(f\"Liste de nombres premiers jusqu'à {limite_sup} :\", liste_premiers)\n"
   ]
  },
  {
   "cell_type": "code",
   "execution_count": 3,
   "metadata": {},
   "outputs": [
    {
     "name": "stdout",
     "output_type": "stream",
     "text": [
      "Liste d'origine : [1, 2, 3, 4, 5]\n",
      "Liste après multiplication par 3 : [3, 6, 9, 12, 15]\n"
     ]
    }
   ],
   "source": [
    "#3. Écrivez un programme qui utilise la fonction map pour multiplier chaque élément d'une liste par 3\n",
    "# Définition de la fonction de multiplication par 3\n",
    "def multiplier_par_trois(nombre):\n",
    "    return nombre * 3\n",
    "\n",
    "# Liste d'origine\n",
    "ma_liste = [1, 2, 3, 4, 5]\n",
    "\n",
    "# Utilisation de la fonction map pour appliquer la multiplication par 3 à chaque élément de la liste\n",
    "nouvelle_liste = list(map(multiplier_par_trois, ma_liste))\n",
    "\n",
    "# Affichage des résultats\n",
    "print(\"Liste d'origine :\", ma_liste)\n",
    "print(\"Liste après multiplication par 3 :\", nouvelle_liste)\n"
   ]
  },
  {
   "cell_type": "code",
   "execution_count": null,
   "metadata": {},
   "outputs": [],
   "source": []
  }
 ],
 "metadata": {
  "kernelspec": {
   "display_name": "Python 3",
   "language": "python",
   "name": "python3"
  },
  "language_info": {
   "codemirror_mode": {
    "name": "ipython",
    "version": 3
   },
   "file_extension": ".py",
   "mimetype": "text/x-python",
   "name": "python",
   "nbconvert_exporter": "python",
   "pygments_lexer": "ipython3",
   "version": "3.7.4"
  }
 },
 "nbformat": 4,
 "nbformat_minor": 2
}
